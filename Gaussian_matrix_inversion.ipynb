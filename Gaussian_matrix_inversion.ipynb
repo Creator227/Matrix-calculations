{
 "cells": [
  {
   "cell_type": "markdown",
   "metadata": {},
   "source": [
    "# Махницкий Никита, ФПМИ БГУ, 2к. 12 гр.\n",
    "### \"Обращение матрицы методом Гаусса с выбором ГЭ по столбцу\""
   ]
  },
  {
   "cell_type": "code",
   "execution_count": 3,
   "metadata": {},
   "outputs": [],
   "source": [
    "matrix1 = [\n",
    "    [-1, -4, -5, -1, 0, -1, -1],\n",
    "    [-1, -4, 0, 4, -4, 0, -4],\n",
    "    [-2, -8, -5, -1, 0, -4, 0],\n",
    "    [-4, -16, -10, 2, -4, -2, 0],\n",
    "    [-8, -32, -20, 4, -8, 0, -2],\n",
    "    [-16, -64, -40, 8, -16, -7, -4],\n",
    "    [5, -5, -5, -2, 0, -2, -1]\n",
    "]\n",
    "matrix2 = [\n",
    "    [1, 1, 1, 1, 1, 1, 1, 1, 1, 1],\n",
    "    [1, 2, 4, 8, 16, 32, 64, 128, 256, 512],\n",
    "    [1, 3, 9, 27, 81, 243, 729, 2187, 6561, 19683],\n",
    "    [1, 4, 16, 64, 256, 1024, 4096, 16384, 65536, 262144],\n",
    "    [1, 5, 25, 125, 625, 3125, 15625, 78125, 390625, 1953125],\n",
    "    [1, 6, 36, 216, 1296, 7776, 46656, 279936, 1679616, 10077696],\n",
    "    [1, 7, 49, 343, 2401, 16807, 117649, 823543, 5764801, 40353607],\n",
    "    [1, 8, 64, 512, 4096, 32768, 262144, 2097152, 16777216, 134217728],\n",
    "    [1, 9, 81, 729, 6561, 59049, 531441, 4782969, 43046721, 387420489],\n",
    "    [1, 10, 100, 1000, 10000, 100000, 1000000, 10000000, 100000000, 1000000000]\n",
    "]\n",
    "matrix3 = [\n",
    "    [5, 3, 3, -4, 5, -5, -4, -5, 0, 2],\n",
    "    [5, 3, -1, 2, 3, 0, -4, 1, -4, -5],\n",
    "    [10, 6, 2, -3, -2, -2, -1, 0, -3, -5],\n",
    "    [20, 12, 4, -5, -1, -4, 4, -2, -2, -4],\n",
    "    [40, 24, 8, -10, 5, -1, 5, 2, 0, -3],\n",
    "    [80, 48, 16, -20, 10, -12, -3, -3, 3, 2],\n",
    "    [160, 96, 32, -40, 20, -24, -3, -4, 1, 4],\n",
    "    [320, 192, 64, -80, 40, -48, -6, -11, 0, -3],\n",
    "    [640, 384, 128, -160, 80, -96, -12, -22, -5, 2],\n",
    "    [-3, -3, 0, 0, 5, 3, -2, 2, 5, -2],\n",
    "]\n",
    "def print_matrix(matrix):\n",
    "    print('******************************')\n",
    "    for row in matrix:\n",
    "        for a in row:\n",
    "            print('%10.4f' % a,  end=' ')\n",
    "        print()\n",
    "    print('******************************')"
   ]
  },
  {
   "cell_type": "code",
   "execution_count": 4,
   "metadata": {},
   "outputs": [],
   "source": [
    "# Вспомогательная функция, для нахождения главного элемента столбца\n",
    "def _find_main(matrix, column_idx, n) -> int:\n",
    "    column = [abs(matrix[i][column_idx]) for i in range(column_idx, n)]\n",
    "    return column.index(max(column))\n",
    "    "
   ]
  },
  {
   "cell_type": "code",
   "execution_count": 5,
   "metadata": {},
   "outputs": [],
   "source": [
    "def get_inverse_matrix(matrix_in, n):\n",
    "    matrix = matrix_in.copy()\n",
    "    inverse_matrix = list()\n",
    "    for i in range(n):\n",
    "        row = [0] * n\n",
    "        row[i] = 1\n",
    "        inverse_matrix.append(row)\n",
    "\n",
    "    for column_idx in range(n):\n",
    "        # Находим главный элемент слолбца\n",
    "        main_idx = _find_main(matrix, column_idx, n) + column_idx\n",
    "        # Меняем строки матрицы\n",
    "        matrix[column_idx], matrix[main_idx] = matrix[main_idx], matrix[column_idx]\n",
    "        inverse_matrix[column_idx], inverse_matrix[main_idx] = inverse_matrix[main_idx], inverse_matrix[column_idx]\n",
    "      \n",
    "        # Ход метода Гаусса\n",
    "        if matrix[column_idx][column_idx] == 0:\n",
    "            raise ArithmeticError('Введенная матрица является вырожденной!')\n",
    "        for row in range(n):\n",
    "            if row == column_idx:\n",
    "                continue\n",
    "            k = matrix[row][column_idx] / matrix[column_idx][column_idx]\n",
    "            for column in range(n):\n",
    "                matrix[row][column] = matrix[row][column] - matrix[column_idx][column] * k\n",
    "                inverse_matrix[row][column] = inverse_matrix[row][column] - inverse_matrix[column_idx][column] * k\n",
    "\n",
    "    # Делим строки на элемент диагонали\n",
    "    for row in range(n):\n",
    "        if matrix[row][row] == 0:\n",
    "            raise ArithmeticError('Введенная матрица является вырожденной!')\n",
    "        inverse_matrix[row] = [inverse_matrix[row][i] / matrix[row][row] for i in range(n)]\n",
    "    \n",
    "    return inverse_matrix"
   ]
  },
  {
   "cell_type": "code",
   "execution_count": 6,
   "metadata": {},
   "outputs": [
    {
     "ename": "ArithmeticError",
     "evalue": "Введенная матрица является вырожденной!",
     "output_type": "error",
     "traceback": [
      "\u001b[1;31m---------------------------------------------------------------------------\u001b[0m",
      "\u001b[1;31mArithmeticError\u001b[0m                           Traceback (most recent call last)",
      "\u001b[1;32m<ipython-input-6-cad092f8eaa6>\u001b[0m in \u001b[0;36m<module>\u001b[1;34m\u001b[0m\n\u001b[1;32m----> 1\u001b[1;33m \u001b[0mprint_matrix\u001b[0m\u001b[1;33m(\u001b[0m\u001b[0mget_inverse_matrix\u001b[0m\u001b[1;33m(\u001b[0m\u001b[0mmatrix1\u001b[0m\u001b[1;33m,\u001b[0m \u001b[0mlen\u001b[0m\u001b[1;33m(\u001b[0m\u001b[0mmatrix1\u001b[0m\u001b[1;33m)\u001b[0m\u001b[1;33m)\u001b[0m\u001b[1;33m)\u001b[0m\u001b[1;33m\u001b[0m\u001b[1;33m\u001b[0m\u001b[0m\n\u001b[0m",
      "\u001b[1;32m<ipython-input-5-ec651313ab79>\u001b[0m in \u001b[0;36mget_inverse_matrix\u001b[1;34m(matrix_in, n)\u001b[0m\n\u001b[0;32m     16\u001b[0m         \u001b[1;31m# Ход метода Гаусса\u001b[0m\u001b[1;33m\u001b[0m\u001b[1;33m\u001b[0m\u001b[1;33m\u001b[0m\u001b[0m\n\u001b[0;32m     17\u001b[0m         \u001b[1;32mif\u001b[0m \u001b[0mmatrix\u001b[0m\u001b[1;33m[\u001b[0m\u001b[0mcolumn_idx\u001b[0m\u001b[1;33m]\u001b[0m\u001b[1;33m[\u001b[0m\u001b[0mcolumn_idx\u001b[0m\u001b[1;33m]\u001b[0m \u001b[1;33m==\u001b[0m \u001b[1;36m0\u001b[0m\u001b[1;33m:\u001b[0m\u001b[1;33m\u001b[0m\u001b[1;33m\u001b[0m\u001b[0m\n\u001b[1;32m---> 18\u001b[1;33m             \u001b[1;32mraise\u001b[0m \u001b[0mArithmeticError\u001b[0m\u001b[1;33m(\u001b[0m\u001b[1;34m'Введенная матрица является вырожденной!'\u001b[0m\u001b[1;33m)\u001b[0m\u001b[1;33m\u001b[0m\u001b[1;33m\u001b[0m\u001b[0m\n\u001b[0m\u001b[0;32m     19\u001b[0m         \u001b[1;32mfor\u001b[0m \u001b[0mrow\u001b[0m \u001b[1;32min\u001b[0m \u001b[0mrange\u001b[0m\u001b[1;33m(\u001b[0m\u001b[0mn\u001b[0m\u001b[1;33m)\u001b[0m\u001b[1;33m:\u001b[0m\u001b[1;33m\u001b[0m\u001b[1;33m\u001b[0m\u001b[0m\n\u001b[0;32m     20\u001b[0m             \u001b[1;32mif\u001b[0m \u001b[0mrow\u001b[0m \u001b[1;33m==\u001b[0m \u001b[0mcolumn_idx\u001b[0m\u001b[1;33m:\u001b[0m\u001b[1;33m\u001b[0m\u001b[1;33m\u001b[0m\u001b[0m\n",
      "\u001b[1;31mArithmeticError\u001b[0m: Введенная матрица является вырожденной!"
     ]
    }
   ],
   "source": [
    "print_matrix(get_inverse_matrix(matrix1, len(matrix1)))"
   ]
  },
  {
   "cell_type": "code",
   "execution_count": 7,
   "metadata": {
    "scrolled": true
   },
   "outputs": [
    {
     "name": "stdout",
     "output_type": "stream",
     "text": [
      "******************************\n",
      "   10.0000   -45.0000   120.0000  -210.0000   252.0000  -210.0000   120.0000   -45.0000    10.0000    -1.0000 \n",
      "  -19.2897   109.3036  -311.4762   562.5833  -687.7000   580.0833  -334.3333   126.1786   -28.1786     2.8290 \n",
      "   15.8558  -103.5027   317.9198  -597.4083   748.1250  -641.3736   373.9833  -142.3821    32.0145    -3.2316 \n",
      "   -7.3186    52.5331  -172.1187   337.3088  -434.3681   379.7653  -224.6657    86.4867   -19.6172     1.9943 \n",
      "    2.0976   -16.1061    55.6208  -113.4118   150.4132  -134.4448    80.8986   -31.5618     7.2365    -0.7422 \n",
      "   -0.3883     3.1332   -11.2896    23.8493   -32.5601    29.7948   -18.2729     7.2410    -1.6818     0.1744 \n",
      "    0.0465    -0.3899     1.4542    -3.1681     4.4444    -4.1646     2.6069    -1.0514     0.2479    -0.0260 \n",
      "   -0.0035     0.0301    -0.1155     0.2583    -0.3715     0.3563    -0.2278     0.0937    -0.0225     0.0024 \n",
      "    0.0001    -0.0013     0.0052    -0.0118     0.0174    -0.0170     0.0111    -0.0047     0.0011    -0.0001 \n",
      "   -0.0000     0.0000    -0.0001     0.0002    -0.0003     0.0003    -0.0002     0.0001    -0.0000     0.0000 \n",
      "******************************\n"
     ]
    }
   ],
   "source": [
    "print_matrix(get_inverse_matrix(matrix2, len(matrix2)))"
   ]
  },
  {
   "cell_type": "code",
   "execution_count": 8,
   "metadata": {},
   "outputs": [
    {
     "name": "stdout",
     "output_type": "stream",
     "text": [
      "******************************\n",
      "    1.0000     0.0000     0.0000     0.0000     0.0000     0.0000     0.0000     0.0000     0.0000     0.0000 \n",
      "    0.0000     1.0000     0.0000     0.0000     0.0000     0.0000     0.0000    -0.0000     0.0000     0.0000 \n",
      "    0.0000     0.0000     1.0000     0.0000     0.0000     0.0000     0.0000     0.0000     0.0000     0.0000 \n",
      "    0.0000     0.0000     0.0000     1.0000     0.0000     0.0000     0.0000     0.0000    -0.0000     0.0000 \n",
      "    0.0000     0.0000     0.0000     0.0000     1.0000    -0.0000     0.0000     0.0000     0.0000     0.0000 \n",
      "    0.0000     0.0000     0.0000     0.0000     0.0000     1.0000    -0.0000     0.0000     0.0000     0.0000 \n",
      "    0.0000     0.0000     0.0000     0.0000     0.0000     0.0000     1.0000     0.0000     0.0000     0.0000 \n",
      "    0.0000     0.0000     0.0000     0.0000     0.0000     0.0000     0.0000     1.0000     0.0000     0.0000 \n",
      "    0.0000     0.0000     0.0000     0.0000     0.0000     0.0000     0.0000     0.0000     1.0000     0.0000 \n",
      "    0.0000     0.0000     0.0000     0.0000     0.0000     0.0000     0.0000     0.0000     0.0000     1.0000 \n",
      "******************************\n"
     ]
    }
   ],
   "source": [
    "# Проверим, перемножив обратную и исходную матрицы\n",
    "import numpy as np\n",
    "a = np.array(get_inverse_matrix(matrix2, len(matrix2)))\n",
    "b = np.array(matrix2)\n",
    "print_matrix(a.dot(b))"
   ]
  },
  {
   "cell_type": "code",
   "execution_count": 9,
   "metadata": {},
   "outputs": [
    {
     "name": "stdout",
     "output_type": "stream",
     "text": [
      "******************************\n",
      "   -0.6748    -0.4248    -0.2998    -0.0498    -0.7748    -0.7873    -0.8123    -0.0723     0.4048     0.5000 \n",
      "    0.3067     0.0567    -0.0683    -0.7944     0.5115    -0.1236     0.1458     1.0623    -0.5650    -0.8333 \n",
      "   10.1690     9.6690     6.9190    12.8476    10.4547    22.1393    15.0004   -14.1869    -0.7420     0.0000 \n",
      "    5.7499     5.7499     3.7499     7.6070     5.9213    12.9070     8.6403    -8.2187    -0.4203    -0.0000 \n",
      "   -0.5642    -0.5642    -0.5642    -0.8500    -0.6214    -1.6166    -0.8611     1.0253    -0.0123    -0.0000 \n",
      "    0.2125     0.2125     0.2125     0.2125     0.4125     0.9792    -0.1097    -0.6341     0.1830     0.0000 \n",
      "   -0.4159    -0.4159    -0.4159    -0.4159    -0.4159    -1.0825    -0.5270     0.6508    -0.0063    -0.0000 \n",
      "    0.3381     0.3381     0.3381     0.3381     0.3381     0.3381     1.0048    -0.2619    -0.2048     0.0000 \n",
      "   -0.1143    -0.1143    -0.1143    -0.1143    -0.1143    -0.1143    -0.1143     0.2857    -0.0857     0.0000 \n",
      "   -0.0714    -0.0714    -0.0714    -0.0714    -0.0714    -0.0714    -0.0714    -0.0714     0.0714    -0.0000 \n",
      "******************************\n"
     ]
    }
   ],
   "source": [
    "print_matrix(get_inverse_matrix(matrix3, len(matrix3)))"
   ]
  },
  {
   "cell_type": "code",
   "execution_count": 10,
   "metadata": {},
   "outputs": [
    {
     "name": "stdout",
     "output_type": "stream",
     "text": [
      "******************************\n",
      "    1.0000     0.0000     0.0000     0.0000     0.0000     0.0000     0.0000     0.0000     0.0000     0.0000 \n",
      "    0.0000     1.0000     0.0000     0.0000    -0.0000     0.0000     0.0000    -0.0000     0.0000     0.0000 \n",
      "    0.0000     0.0000     1.0000     0.0000     0.0000     0.0000     0.0000    -0.0000    -0.0000     0.0000 \n",
      "    0.0000     0.0000     0.0000     1.0000     0.0000     0.0000     0.0000     0.0000     0.0000     0.0000 \n",
      "    0.0000     0.0000     0.0000     0.0000     1.0000     0.0000     0.0000     0.0000     0.0000     0.0000 \n",
      "    0.0000     0.0000     0.0000     0.0000     0.0000     1.0000     0.0000     0.0000     0.0000     0.0000 \n",
      "    0.0000     0.0000     0.0000     0.0000     0.0000     0.0000     1.0000     0.0000     0.0000     0.0000 \n",
      "    0.0000     0.0000     0.0000     0.0000     0.0000     0.0000     0.0000     1.0000     0.0000     0.0000 \n",
      "    0.0000     0.0000     0.0000     0.0000     0.0000     0.0000     0.0000     0.0000     1.0000     0.0000 \n",
      "    0.0000     0.0000     0.0000     0.0000     0.0000     0.0000     0.0000     0.0000     0.0000     1.0000 \n",
      "******************************\n"
     ]
    }
   ],
   "source": [
    "# Также проверим для матрицы 3\n",
    "a = np.array(get_inverse_matrix(matrix3, len(matrix3)))\n",
    "b = np.array(matrix3)\n",
    "print_matrix(a.dot(b))"
   ]
  },
  {
   "cell_type": "code",
   "execution_count": 11,
   "metadata": {},
   "outputs": [],
   "source": [
    "## Для нахождения обратной матрицы использую sumpy\n",
    "import sympy"
   ]
  },
  {
   "cell_type": "code",
   "execution_count": 12,
   "metadata": {},
   "outputs": [
    {
     "ename": "NonInvertibleMatrixError",
     "evalue": "Matrix det == 0; not invertible.",
     "output_type": "error",
     "traceback": [
      "\u001b[1;31m---------------------------------------------------------------------------\u001b[0m",
      "\u001b[1;31mNonInvertibleMatrixError\u001b[0m                  Traceback (most recent call last)",
      "\u001b[1;32m<ipython-input-12-3de6d148bb3a>\u001b[0m in \u001b[0;36m<module>\u001b[1;34m\u001b[0m\n\u001b[0;32m      1\u001b[0m \u001b[1;31m# Проверим, правильно ли функция отработала в случае вырожденной матрицы\u001b[0m\u001b[1;33m\u001b[0m\u001b[1;33m\u001b[0m\u001b[1;33m\u001b[0m\u001b[0m\n\u001b[0;32m      2\u001b[0m \u001b[0mMatrix1\u001b[0m \u001b[1;33m=\u001b[0m \u001b[0msympy\u001b[0m\u001b[1;33m.\u001b[0m\u001b[0mMatrix\u001b[0m\u001b[1;33m(\u001b[0m\u001b[0mmatrix1\u001b[0m\u001b[1;33m)\u001b[0m\u001b[1;33m\u001b[0m\u001b[1;33m\u001b[0m\u001b[0m\n\u001b[1;32m----> 3\u001b[1;33m \u001b[0mMatrix1\u001b[0m\u001b[1;33m.\u001b[0m\u001b[0minv\u001b[0m\u001b[1;33m(\u001b[0m\u001b[1;33m)\u001b[0m\u001b[1;33m\u001b[0m\u001b[1;33m\u001b[0m\u001b[0m\n\u001b[0m",
      "\u001b[1;32mc:\\users\\makhn\\appdata\\local\\programs\\python\\python37-32\\lib\\site-packages\\sympy\\matrices\\matrices.py\u001b[0m in \u001b[0;36minv\u001b[1;34m(self, method, **kwargs)\u001b[0m\n\u001b[0;32m   3670\u001b[0m         \u001b[1;32mif\u001b[0m \u001b[0mmethod\u001b[0m \u001b[1;32mis\u001b[0m \u001b[1;32mnot\u001b[0m \u001b[1;32mNone\u001b[0m\u001b[1;33m:\u001b[0m\u001b[1;33m\u001b[0m\u001b[1;33m\u001b[0m\u001b[0m\n\u001b[0;32m   3671\u001b[0m             \u001b[0mkwargs\u001b[0m\u001b[1;33m[\u001b[0m\u001b[1;34m'method'\u001b[0m\u001b[1;33m]\u001b[0m \u001b[1;33m=\u001b[0m \u001b[0mmethod\u001b[0m\u001b[1;33m\u001b[0m\u001b[1;33m\u001b[0m\u001b[0m\n\u001b[1;32m-> 3672\u001b[1;33m         \u001b[1;32mreturn\u001b[0m \u001b[0mself\u001b[0m\u001b[1;33m.\u001b[0m\u001b[0m_eval_inverse\u001b[0m\u001b[1;33m(\u001b[0m\u001b[1;33m**\u001b[0m\u001b[0mkwargs\u001b[0m\u001b[1;33m)\u001b[0m\u001b[1;33m\u001b[0m\u001b[1;33m\u001b[0m\u001b[0m\n\u001b[0m\u001b[0;32m   3673\u001b[0m \u001b[1;33m\u001b[0m\u001b[0m\n\u001b[0;32m   3674\u001b[0m     \u001b[1;32mdef\u001b[0m \u001b[0mis_nilpotent\u001b[0m\u001b[1;33m(\u001b[0m\u001b[0mself\u001b[0m\u001b[1;33m)\u001b[0m\u001b[1;33m:\u001b[0m\u001b[1;33m\u001b[0m\u001b[1;33m\u001b[0m\u001b[0m\n",
      "\u001b[1;32mc:\\users\\makhn\\appdata\\local\\programs\\python\\python37-32\\lib\\site-packages\\sympy\\matrices\\dense.py\u001b[0m in \u001b[0;36m_eval_inverse\u001b[1;34m(self, **kwargs)\u001b[0m\n\u001b[0;32m    263\u001b[0m         \u001b[0mM\u001b[0m \u001b[1;33m=\u001b[0m \u001b[0mself\u001b[0m\u001b[1;33m.\u001b[0m\u001b[0mas_mutable\u001b[0m\u001b[1;33m(\u001b[0m\u001b[1;33m)\u001b[0m\u001b[1;33m\u001b[0m\u001b[1;33m\u001b[0m\u001b[0m\n\u001b[0;32m    264\u001b[0m         \u001b[1;32mif\u001b[0m \u001b[0mmethod\u001b[0m \u001b[1;33m==\u001b[0m \u001b[1;34m\"GE\"\u001b[0m\u001b[1;33m:\u001b[0m\u001b[1;33m\u001b[0m\u001b[1;33m\u001b[0m\u001b[0m\n\u001b[1;32m--> 265\u001b[1;33m             \u001b[0mrv\u001b[0m \u001b[1;33m=\u001b[0m \u001b[0mM\u001b[0m\u001b[1;33m.\u001b[0m\u001b[0minverse_GE\u001b[0m\u001b[1;33m(\u001b[0m\u001b[0miszerofunc\u001b[0m\u001b[1;33m=\u001b[0m\u001b[0miszerofunc\u001b[0m\u001b[1;33m)\u001b[0m\u001b[1;33m\u001b[0m\u001b[1;33m\u001b[0m\u001b[0m\n\u001b[0m\u001b[0;32m    266\u001b[0m         \u001b[1;32melif\u001b[0m \u001b[0mmethod\u001b[0m \u001b[1;33m==\u001b[0m \u001b[1;34m\"LU\"\u001b[0m\u001b[1;33m:\u001b[0m\u001b[1;33m\u001b[0m\u001b[1;33m\u001b[0m\u001b[0m\n\u001b[0;32m    267\u001b[0m             \u001b[0mrv\u001b[0m \u001b[1;33m=\u001b[0m \u001b[0mM\u001b[0m\u001b[1;33m.\u001b[0m\u001b[0minverse_LU\u001b[0m\u001b[1;33m(\u001b[0m\u001b[0miszerofunc\u001b[0m\u001b[1;33m=\u001b[0m\u001b[0miszerofunc\u001b[0m\u001b[1;33m)\u001b[0m\u001b[1;33m\u001b[0m\u001b[1;33m\u001b[0m\u001b[0m\n",
      "\u001b[1;32mc:\\users\\makhn\\appdata\\local\\programs\\python\\python37-32\\lib\\site-packages\\sympy\\matrices\\matrices.py\u001b[0m in \u001b[0;36minverse_GE\u001b[1;34m(self, iszerofunc)\u001b[0m\n\u001b[0;32m   3585\u001b[0m         \u001b[0mred\u001b[0m \u001b[1;33m=\u001b[0m \u001b[0mbig\u001b[0m\u001b[1;33m.\u001b[0m\u001b[0mrref\u001b[0m\u001b[1;33m(\u001b[0m\u001b[0miszerofunc\u001b[0m\u001b[1;33m=\u001b[0m\u001b[0miszerofunc\u001b[0m\u001b[1;33m,\u001b[0m \u001b[0msimplify\u001b[0m\u001b[1;33m=\u001b[0m\u001b[1;32mTrue\u001b[0m\u001b[1;33m)\u001b[0m\u001b[1;33m[\u001b[0m\u001b[1;36m0\u001b[0m\u001b[1;33m]\u001b[0m\u001b[1;33m\u001b[0m\u001b[1;33m\u001b[0m\u001b[0m\n\u001b[0;32m   3586\u001b[0m         \u001b[1;32mif\u001b[0m \u001b[0many\u001b[0m\u001b[1;33m(\u001b[0m\u001b[0miszerofunc\u001b[0m\u001b[1;33m(\u001b[0m\u001b[0mred\u001b[0m\u001b[1;33m[\u001b[0m\u001b[0mj\u001b[0m\u001b[1;33m,\u001b[0m \u001b[0mj\u001b[0m\u001b[1;33m]\u001b[0m\u001b[1;33m)\u001b[0m \u001b[1;32mfor\u001b[0m \u001b[0mj\u001b[0m \u001b[1;32min\u001b[0m \u001b[0mrange\u001b[0m\u001b[1;33m(\u001b[0m\u001b[0mred\u001b[0m\u001b[1;33m.\u001b[0m\u001b[0mrows\u001b[0m\u001b[1;33m)\u001b[0m\u001b[1;33m)\u001b[0m\u001b[1;33m:\u001b[0m\u001b[1;33m\u001b[0m\u001b[1;33m\u001b[0m\u001b[0m\n\u001b[1;32m-> 3587\u001b[1;33m             \u001b[1;32mraise\u001b[0m \u001b[0mNonInvertibleMatrixError\u001b[0m\u001b[1;33m(\u001b[0m\u001b[1;34m\"Matrix det == 0; not invertible.\"\u001b[0m\u001b[1;33m)\u001b[0m\u001b[1;33m\u001b[0m\u001b[1;33m\u001b[0m\u001b[0m\n\u001b[0m\u001b[0;32m   3588\u001b[0m \u001b[1;33m\u001b[0m\u001b[0m\n\u001b[0;32m   3589\u001b[0m         \u001b[1;32mreturn\u001b[0m \u001b[0mself\u001b[0m\u001b[1;33m.\u001b[0m\u001b[0m_new\u001b[0m\u001b[1;33m(\u001b[0m\u001b[0mred\u001b[0m\u001b[1;33m[\u001b[0m\u001b[1;33m:\u001b[0m\u001b[1;33m,\u001b[0m \u001b[0mbig\u001b[0m\u001b[1;33m.\u001b[0m\u001b[0mrows\u001b[0m\u001b[1;33m:\u001b[0m\u001b[1;33m]\u001b[0m\u001b[1;33m)\u001b[0m\u001b[1;33m\u001b[0m\u001b[1;33m\u001b[0m\u001b[0m\n",
      "\u001b[1;31mNonInvertibleMatrixError\u001b[0m: Matrix det == 0; not invertible."
     ]
    }
   ],
   "source": [
    "# Проверим, правильно ли функция отработала в случае вырожденной матрицы\n",
    "Matrix1 = sympy.Matrix(matrix1)\n",
    "Matrix1.inv()"
   ]
  },
  {
   "cell_type": "code",
   "execution_count": 15,
   "metadata": {},
   "outputs": [],
   "source": [
    "Matrix2 = sympy.Matrix(matrix2).inv()"
   ]
  },
  {
   "cell_type": "code",
   "execution_count": 16,
   "metadata": {
    "scrolled": true
   },
   "outputs": [
    {
     "data": {
      "text/latex": [
       "$\\displaystyle \\left[\\begin{matrix}1.0 & 0 & 0 & 0 & 0 & 0 & 0 & 0 & 0 & 0\\\\0 & 0 & 0 & 0 & 0 & 0 & 0 & 0 & 0 & 0.111111111111111\\\\0 & 0 & 0 & 0 & -0.05 & 0 & 0 & 0 & 0 & 0\\\\0 & 0 & 0 & 0 & 0 & 0 & 0 & -0.0238095238095238 & 0 & 0\\\\0 & -0.00694444444444444 & 0 & 0 & 0 & 0 & 0 & 0 & 0 & 0\\\\0 & 0 & 0 & 0 & 0 & 0 & 0 & 0 & -0.00446428571428576 & 0\\\\0 & 0 & 0.00119047619047594 & 0 & 0 & 0 & 0 & 0 & 0 & 0\\\\0 & 0 & 0 & 0 & 0 & -0.000694444444444211 & 0 & 0 & 0 & 0\\\\0 & 0 & 0 & -0.000694444444436358 & 0 & 0 & 0 & 0 & 0 & 0\\\\0 & 0 & 0 & 0 & 0 & 0 & -0.000231481481489675 & 0 & 0 & 0\\end{matrix}\\right]$"
      ],
      "text/plain": [
       "Matrix([\n",
       "[1.0,                    0,                   0,                     0,     0,                     0,                     0,                   0,                    0,                 0],\n",
       "[  0,                    0,                   0,                     0,     0,                     0,                     0,                   0,                    0, 0.111111111111111],\n",
       "[  0,                    0,                   0,                     0, -0.05,                     0,                     0,                   0,                    0,                 0],\n",
       "[  0,                    0,                   0,                     0,     0,                     0,                     0, -0.0238095238095238,                    0,                 0],\n",
       "[  0, -0.00694444444444444,                   0,                     0,     0,                     0,                     0,                   0,                    0,                 0],\n",
       "[  0,                    0,                   0,                     0,     0,                     0,                     0,                   0, -0.00446428571428576,                 0],\n",
       "[  0,                    0, 0.00119047619047594,                     0,     0,                     0,                     0,                   0,                    0,                 0],\n",
       "[  0,                    0,                   0,                     0,     0, -0.000694444444444211,                     0,                   0,                    0,                 0],\n",
       "[  0,                    0,                   0, -0.000694444444436358,     0,                     0,                     0,                   0,                    0,                 0],\n",
       "[  0,                    0,                   0,                     0,     0,                     0, -0.000231481481489675,                   0,                    0,                 0]])"
      ]
     },
     "execution_count": 16,
     "metadata": {},
     "output_type": "execute_result"
    }
   ],
   "source": [
    "Matrix2"
   ]
  },
  {
   "cell_type": "code",
   "execution_count": 19,
   "metadata": {},
   "outputs": [],
   "source": [
    "Matrix3 = sympy.Matrix(matrix3).inv()"
   ]
  },
  {
   "cell_type": "code",
   "execution_count": 20,
   "metadata": {},
   "outputs": [
    {
     "data": {
      "text/latex": [
       "$\\displaystyle \\left[\\begin{matrix}0 & 0 & 0 & 0 & 0 & 0 & 0 & 0 & 0.0015625 & 0\\\\0 & 0 & 0 & 0 & 0 & 0 & 0 & 0 & 0 & -0.833333333333333\\\\0.5 & 0 & 0 & 0 & 0 & 0 & 0 & 0 & 0 & 0\\\\0 & 0 & -2.0 & 0 & 0 & 0 & 0 & 0 & 0 & 0\\\\0 & 0 & 0 & -0.285714285714286 & 0 & 0 & 0 & 0 & 0 & 0\\\\0 & 0 & 0 & 0 & 0.2 & 0 & 0 & 0 & 0 & 0\\\\0 & 0 & 0 & 0 & 0 & -0.666666666666667 & 0 & 0 & 0 & 0\\\\0 & 0 & 0 & 0 & 0 & 0 & 0.666666666666667 & 0 & 0 & 0\\\\0 & 0 & 0 & 0 & 0 & 0 & 0 & 0.4 & 0 & 0\\\\0 & -0.0714285714285714 & 0 & 0 & 0 & 0 & 0 & 0 & 0 & 0\\end{matrix}\\right]$"
      ],
      "text/plain": [
       "Matrix([\n",
       "[  0,                   0,    0,                  0,   0,                  0,                 0,   0, 0.0015625,                  0],\n",
       "[  0,                   0,    0,                  0,   0,                  0,                 0,   0,         0, -0.833333333333333],\n",
       "[0.5,                   0,    0,                  0,   0,                  0,                 0,   0,         0,                  0],\n",
       "[  0,                   0, -2.0,                  0,   0,                  0,                 0,   0,         0,                  0],\n",
       "[  0,                   0,    0, -0.285714285714286,   0,                  0,                 0,   0,         0,                  0],\n",
       "[  0,                   0,    0,                  0, 0.2,                  0,                 0,   0,         0,                  0],\n",
       "[  0,                   0,    0,                  0,   0, -0.666666666666667,                 0,   0,         0,                  0],\n",
       "[  0,                   0,    0,                  0,   0,                  0, 0.666666666666667,   0,         0,                  0],\n",
       "[  0,                   0,    0,                  0,   0,                  0,                 0, 0.4,         0,                  0],\n",
       "[  0, -0.0714285714285714,    0,                  0,   0,                  0,                 0,   0,         0,                  0]])"
      ]
     },
     "execution_count": 20,
     "metadata": {},
     "output_type": "execute_result"
    }
   ],
   "source": [
    "Matrix3"
   ]
  },
  {
   "cell_type": "code",
   "execution_count": 29,
   "metadata": {
    "scrolled": true
   },
   "outputs": [
    {
     "data": {
      "text/latex": [
       "$\\displaystyle \\left[\\begin{matrix}1.0 & 0.0 & 0.0 & 0.0 & 0.0 & 0.0 & 0.0 & 0.0 & 0.0 & 0.0\\\\0.0 & 0.0 & 0.0 & 0.0 & 0.0 & 0.0 & 0.0 & 0.0 & 0.0 & 0.111111111111111\\\\0.0 & 0.0 & 0.0 & 0.0 & -0.05 & 0.0 & 0.0 & 0.0 & 0.0 & 0.0\\\\0.0 & 0.0 & 0.0 & 0.0 & 0.0 & 0.0 & 0.0 & -0.0238095238095238 & 0.0 & 0.0\\\\0.0 & -0.00694444444444444 & 0.0 & 0.0 & 0.0 & 0.0 & 0.0 & 0.0 & 0.0 & 0.0\\\\0.0 & 0.0 & 0.0 & 0.0 & 0.0 & 0.0 & 0.0 & 0.0 & -0.00446428571428576 & 0.0\\\\0.0 & 0.0 & 0.00119047619047594 & 0.0 & 0.0 & 0.0 & 0.0 & 0.0 & 0.0 & 0.0\\\\0.0 & 0.0 & 0.0 & 0.0 & 0.0 & -0.000694444444444211 & 0.0 & 0.0 & 0.0 & 0.0\\\\0.0 & 0.0 & 0.0 & -0.000694444444436358 & 0.0 & 0.0 & 0.0 & 0.0 & 0.0 & 0.0\\\\0.0 & 0.0 & 0.0 & 0.0 & 0.0 & 0.0 & -0.000231481481489675 & 0.0 & 0.0 & 0.0\\end{matrix}\\right]$"
      ],
      "text/plain": [
       "Matrix([\n",
       "[1.0,                  0.0,                 0.0,                   0.0,   0.0,                   0.0,                   0.0,                 0.0,                  0.0,               0.0],\n",
       "[0.0,                  0.0,                 0.0,                   0.0,   0.0,                   0.0,                   0.0,                 0.0,                  0.0, 0.111111111111111],\n",
       "[0.0,                  0.0,                 0.0,                   0.0, -0.05,                   0.0,                   0.0,                 0.0,                  0.0,               0.0],\n",
       "[0.0,                  0.0,                 0.0,                   0.0,   0.0,                   0.0,                   0.0, -0.0238095238095238,                  0.0,               0.0],\n",
       "[0.0, -0.00694444444444444,                 0.0,                   0.0,   0.0,                   0.0,                   0.0,                 0.0,                  0.0,               0.0],\n",
       "[0.0,                  0.0,                 0.0,                   0.0,   0.0,                   0.0,                   0.0,                 0.0, -0.00446428571428576,               0.0],\n",
       "[0.0,                  0.0, 0.00119047619047594,                   0.0,   0.0,                   0.0,                   0.0,                 0.0,                  0.0,               0.0],\n",
       "[0.0,                  0.0,                 0.0,                   0.0,   0.0, -0.000694444444444211,                   0.0,                 0.0,                  0.0,               0.0],\n",
       "[0.0,                  0.0,                 0.0, -0.000694444444436358,   0.0,                   0.0,                   0.0,                 0.0,                  0.0,               0.0],\n",
       "[0.0,                  0.0,                 0.0,                   0.0,   0.0,                   0.0, -0.000231481481489675,                 0.0,                  0.0,               0.0]])"
      ]
     },
     "execution_count": 29,
     "metadata": {},
     "output_type": "execute_result"
    }
   ],
   "source": [
    "# Найдем максимум норму разности полученных обратных матриц\n",
    "def max_norm(matrix):\n",
    "    return max([sum(x) for x in matrix])\n",
    "\n",
    "a = Matrix2\n",
    "b = sympy.Matrix(get_inverse_matrix(matrix2, len(matrix2)))\n",
    "c = a - b\n",
    "b"
   ]
  },
  {
   "cell_type": "code",
   "execution_count": 27,
   "metadata": {},
   "outputs": [
    {
     "data": {
      "text/latex": [
       "$\\displaystyle \\left[\\begin{matrix}0 & 0 & 0 & 0 & 0 & 0 & 0 & 0 & 0 & 0\\\\0 & 0 & 0 & 0 & 0 & 0 & 0 & 0 & 0 & 0\\\\0 & 0 & 0 & 0 & 0 & 0 & 0 & 0 & 0 & 0\\\\0 & 0 & 0 & 0 & 0 & 0 & 0 & 0 & 0 & 0\\\\0 & 0 & 0 & 0 & 0 & 0 & 0 & 0 & 0 & 0\\\\0 & 0 & 0 & 0 & 0 & 0 & 0 & 0 & 0 & 0\\\\0 & 0 & 0 & 0 & 0 & 0 & 0 & 0 & 0 & 0\\\\0 & 0 & 0 & 0 & 0 & 0 & 0 & 0 & 0 & 0\\\\0 & 0 & 0 & 0 & 0 & 0 & 0 & 0 & 0 & 0\\\\0 & 0 & 0 & 0 & 0 & 0 & 0 & 0 & 0 & 0\\end{matrix}\\right]$"
      ],
      "text/plain": [
       "Matrix([\n",
       "[0, 0, 0, 0, 0, 0, 0, 0, 0, 0],\n",
       "[0, 0, 0, 0, 0, 0, 0, 0, 0, 0],\n",
       "[0, 0, 0, 0, 0, 0, 0, 0, 0, 0],\n",
       "[0, 0, 0, 0, 0, 0, 0, 0, 0, 0],\n",
       "[0, 0, 0, 0, 0, 0, 0, 0, 0, 0],\n",
       "[0, 0, 0, 0, 0, 0, 0, 0, 0, 0],\n",
       "[0, 0, 0, 0, 0, 0, 0, 0, 0, 0],\n",
       "[0, 0, 0, 0, 0, 0, 0, 0, 0, 0],\n",
       "[0, 0, 0, 0, 0, 0, 0, 0, 0, 0],\n",
       "[0, 0, 0, 0, 0, 0, 0, 0, 0, 0]])"
      ]
     },
     "execution_count": 27,
     "metadata": {},
     "output_type": "execute_result"
    }
   ],
   "source": [
    "c"
   ]
  },
  {
   "cell_type": "markdown",
   "metadata": {},
   "source": [
    "### Очевидно, здесь максимум норма равна 0"
   ]
  },
  {
   "cell_type": "code",
   "execution_count": 36,
   "metadata": {},
   "outputs": [
    {
     "data": {
      "text/latex": [
       "$\\displaystyle \\left[\\begin{matrix}0 & 0 & 0 & 0 & 0 & 0 & 0 & 0 & 0 & 0\\\\0 & 0 & 0 & 0 & 0 & 0 & 0 & 0 & 0 & 0\\\\0 & 0 & 0 & 0 & 0 & 0 & 0 & 0 & 0 & 0\\\\0 & 0 & 0 & 0 & 0 & 0 & 0 & 0 & 0 & 0\\\\0 & 0 & 0 & 0 & 0 & 0 & 0 & 0 & 0 & 0\\\\0 & 0 & 0 & 0 & 0 & 0 & 0 & 0 & 0 & 0\\\\0 & 0 & 0 & 0 & 0 & 0 & 0 & 0 & 0 & 0\\\\0 & 0 & 0 & 0 & 0 & 0 & 0 & 0 & 0 & 0\\\\0 & 0 & 0 & 0 & 0 & 0 & 0 & 0 & 0 & 0\\\\0 & 0 & 0 & 0 & 0 & 0 & 0 & 0 & 0 & 0\\end{matrix}\\right]$"
      ],
      "text/plain": [
       "Matrix([\n",
       "[0, 0, 0, 0, 0, 0, 0, 0, 0, 0],\n",
       "[0, 0, 0, 0, 0, 0, 0, 0, 0, 0],\n",
       "[0, 0, 0, 0, 0, 0, 0, 0, 0, 0],\n",
       "[0, 0, 0, 0, 0, 0, 0, 0, 0, 0],\n",
       "[0, 0, 0, 0, 0, 0, 0, 0, 0, 0],\n",
       "[0, 0, 0, 0, 0, 0, 0, 0, 0, 0],\n",
       "[0, 0, 0, 0, 0, 0, 0, 0, 0, 0],\n",
       "[0, 0, 0, 0, 0, 0, 0, 0, 0, 0],\n",
       "[0, 0, 0, 0, 0, 0, 0, 0, 0, 0],\n",
       "[0, 0, 0, 0, 0, 0, 0, 0, 0, 0]])"
      ]
     },
     "execution_count": 36,
     "metadata": {},
     "output_type": "execute_result"
    }
   ],
   "source": [
    "a = Matrix3\n",
    "b = sympy.Matrix(get_inverse_matrix(matrix3, len(matrix3)))\n",
    "\n",
    "c = a - b\n",
    "\n",
    "c"
   ]
  },
  {
   "cell_type": "markdown",
   "metadata": {},
   "source": [
    "### Вывод - я МОЛОДЕЦ ))) Вычислено точно"
   ]
  },
  {
   "cell_type": "markdown",
   "metadata": {},
   "source": [
    "## Исследование скорости работы в зависимости от размера"
   ]
  },
  {
   "cell_type": "code",
   "execution_count": null,
   "metadata": {},
   "outputs": [],
   "source": [
    "\n",
    "import random\n",
    "def generate_matrix(size):\n",
    "    matrix = list()\n",
    "    for _ in range(size):\n",
    "        matrix.append([random.randint(-100, 100) for _ in range(size)])\n",
    "    return matrix\n",
    "work_times = []\n",
    "matrix_sizes = [5, 10, 15, 20, 25, 30, 45, 50, 55, 60, 65, 100, 120, 150, 200, 250, 300, 350, 400, 500]\n",
    "import datetime\n",
    "for size in matrix_sizes:\n",
    "    matrix = generate_matrix(size)\n",
    "    a = datetime.datetime.now()\n",
    "    get_inverse_matrix(matrix, len(matrix))\n",
    "    b = datetime.datetime.now()\n",
    "    print(a)\n",
    "    print(b)\n",
    "    work_times.append(str(b-a))\n",
    "    "
   ]
  },
  {
   "cell_type": "code",
   "execution_count": null,
   "metadata": {},
   "outputs": [],
   "source": [
    "from matplotlib import pyplot as plt \n",
    "_, ax = plt.subplots()\n",
    "ax.plot(matrix_sizes, work_times, lw = 2, color = '#539caf', alpha = 1)"
   ]
  },
  {
   "cell_type": "markdown",
   "metadata": {},
   "source": [
    "### Вывод - за 1 минуту можно обратить матрицу размером ~ 390 на 390          \n",
    "        \n",
    "### Решим СЛАУ A * x = b с помощью обратной матрицы\n",
    "### x = A^-1 * b\n",
    "### Для этого генерирую матрицу и вектор b"
   ]
  },
  {
   "cell_type": "code",
   "execution_count": null,
   "metadata": {},
   "outputs": [],
   "source": [
    "\n",
    "\n",
    "matrix_sizes = [5, 10, 15, 20, 25, 30, 45, 50, 55, 60, 65, 100, 120, 150, 200, 250, 300, 350, 400]\n",
    "work_times = []\n",
    "for size in matrix_sizes:\n",
    "    matrix = generate_matrix(size)\n",
    "    start = datetime.datetime.now()\n",
    "    get_inverse_matrix(matrix, len(matrix))\n",
    "    b = [random.randint(-100, 100) for _ in range(size)]\n",
    "    A = np.array(matrix)\n",
    "    b = np.array(b)\n",
    "    x = A.dot(b)\n",
    "    end = datetime.datetime.now()\n",
    "    work_times.append(str(end-start))"
   ]
  },
  {
   "cell_type": "code",
   "execution_count": null,
   "metadata": {},
   "outputs": [],
   "source": [
    "_, ax = plt.subplots()\n",
    "ax.plot(matrix_sizes, work_times, lw = 2, color = '#539caf', alpha = 1)"
   ]
  },
  {
   "cell_type": "markdown",
   "metadata": {},
   "source": [
    "### Вывод - умножение матрицы на вектор не такая трудоемкая операция, за 1 минуту можно решить СЛАУ порядка ~ 365"
   ]
  },
  {
   "cell_type": "code",
   "execution_count": null,
   "metadata": {},
   "outputs": [],
   "source": []
  }
 ],
 "metadata": {
  "kernelspec": {
   "display_name": "Python 3",
   "language": "python",
   "name": "python3"
  },
  "language_info": {
   "codemirror_mode": {
    "name": "ipython",
    "version": 3
   },
   "file_extension": ".py",
   "mimetype": "text/x-python",
   "name": "python",
   "nbconvert_exporter": "python",
   "pygments_lexer": "ipython3",
   "version": "3.7.3"
  }
 },
 "nbformat": 4,
 "nbformat_minor": 4
}
