{
 "cells": [
  {
   "cell_type": "markdown",
   "metadata": {},
   "source": [
    "# Махницкий Никита, ФПМИ БГУ, 2к. 12г.\n",
    "### Решение СЛАУ методами Якоби и Гаусса-Зейделя"
   ]
  },
  {
   "cell_type": "code",
   "execution_count": 2,
   "metadata": {},
   "outputs": [],
   "source": [
    "# Методы Якоби и Гаусса-Зейделя\n",
    "\n",
    "# 1. Теоретически исследовать сходимость методов Якоби и Гаусса-Зейделя для системы Ax = b.\n",
    "n = 3\n",
    "A = [\n",
    "    [12, 28, 25],\n",
    "    [-33, 39, -30],\n",
    "    [14, -20, 19]\n",
    "]\n",
    "\n",
    "# Воспользуемся леммой о сходимости по методу Якоби.\n",
    "# Рассмотрим СЛАУ Ax = b. Если матрица\n",
    "# A имеет строгое диагональное преобладание, то метод Якоби для такой\n",
    "# системы сходится при любом начальном приближении. Это же работает и для метода Гаусса-Зейделя.\n",
    "# Ведь по существу он отличается лишь тем, что на итерации мы используем все уточненные к данному\n",
    "# моменту компоненты.\n",
    "# Матрица A не имеет строгого диагонального преобразования.\n",
    "# Для всех строк |a_ii| < sum(|a_ij|), где j <> i.\n",
    "# Перестановка строк для данной матрицы не подходит, диагонального преобладания не добиться\n",
    "# Достаточное условие не выполняется!\n",
    "\n",
    "# Капнем глубже\n",
    "# Для метода Якоби найдём матрицу B (x^k+1 = Bx^k + g)\n",
    "# B = -(D + L)^-1 * R\n",
    "import numpy as np\n",
    "\n",
    "D = np.matrix([\n",
    "    [12, 0, 0],\n",
    "    [0, 39, 0],\n",
    "    [0, 0, 19]\n",
    "])\n",
    "L = np.matrix([\n",
    "    [0, 0, 0],\n",
    "    [-33, 0, 0],\n",
    "    [14, -20, 0]\n",
    "])\n",
    "R = np.matrix([\n",
    "    [0, 28, 25],\n",
    "    [0, 0, -30],\n",
    "    [0, 0, 0]\n",
    "])\n",
    "B_j = 1 - np.linalg.inv(D) * A\n",
    "B_s =  -np.linalg.inv((D + L)) * R"
   ]
  },
  {
   "cell_type": "code",
   "execution_count": 3,
   "metadata": {},
   "outputs": [
    {
     "name": "stdout",
     "output_type": "stream",
     "text": [
      "(array([ 0.92667976+1.30048197j,  0.92667976-1.30048197j,\n",
      "       -1.85335952+0.j        ]), matrix([[ 0.6993492 +0.j        ,  0.6993492 -0.j        ,\n",
      "         -0.0443276 +0.j        ],\n",
      "        [-0.10675487-0.43376465j, -0.10675487+0.43376465j,\n",
      "         -0.66636534+0.j        ],\n",
      "        [-0.46683039-0.305666j  , -0.46683039+0.305666j  ,\n",
      "          0.74430659+0.j        ]]))\n",
      "(array([ 0.        , -2.11150367,  0.62634848]), matrix([[ 1.        , -0.77581749,  0.87155582],\n",
      "        [ 0.        , -0.62503138,  0.17498049],\n",
      "        [ 0.        , -0.08627277, -0.45800903]]))\n"
     ]
    }
   ],
   "source": [
    "# Найдем собственные значения матрицы B для метода Якоби и Гаусса-Зейделя\n",
    "print(np.linalg.eig(B_j))\n",
    "print(np.linalg.eig(B_s))\n"
   ]
  },
  {
   "cell_type": "code",
   "execution_count": 4,
   "metadata": {},
   "outputs": [],
   "source": [
    "# Используем критерий сходимости - Итерационный процесс\n",
    "# сходится при любом начальном приближении\n",
    "# тогда и только тогда, когда все собственные значения матрицы B\n",
    "# по модулю меньше единицы\n",
    "\n",
    "# Для метода Якоби все ок, а вот в случае с методом Гаусса-Зейделя - непорядок,\n",
    "# собственное значение -2.11150367\n",
    "\n",
    "# Вывод - итерационный процесс Гаусса-Зейделя сходиться НЕ будет.\n",
    "# А вот Якоби должен сойтись"
   ]
  },
  {
   "cell_type": "code",
   "execution_count": 5,
   "metadata": {},
   "outputs": [
    {
     "name": "stdout",
     "output_type": "stream",
     "text": [
      "[143, -45, 31]\n"
     ]
    }
   ],
   "source": [
    "\n",
    "# 2. Подтвердить сделанные выводы экспериментально путем построения логарифмических диаграмм сходимости.\n",
    "# Диаграмма должна быть общей для двух итерационных процессов, обязательно наличие легенды с указанием методов.\n",
    "\n",
    "# Возьмем точное решение solution = (1, 2, 3) ^ T\n",
    "solution = (1, 2, 3)\n",
    "# Вычислим вектор b\n",
    "b = [sum([A[i][j] * solution[j] for j in range(n)]) for i in range(n)]\n",
    "print(b)"
   ]
  },
  {
   "cell_type": "code",
   "execution_count": 6,
   "metadata": {},
   "outputs": [],
   "source": [
    "# Запустим итерационный процесс и построим логарифмическую диаграмму сходимости\n",
    "# Определим количество итераций для диаграммы, а также соответствующий вектор с нормами x^k - x*, \n",
    "# где k - номер итерации, а x* - точное решение\n",
    "iterations_count = (1, 2, 3, 4, 5, 10, 15, 20, 30, 45, 60, 75, 90, 110)\n",
    "jacobi_it_diff = []\n",
    "# Метод Якоби\n",
    "import math\n",
    "Xprev = [0, 0, 0]\n",
    "Xnext = [0, 0, 0]\n",
    "iteration = 0\n",
    "for cnt in iterations_count:\n",
    "    while iteration != cnt:\n",
    "        Xnext = [(1 / A[i][i]) * (b[i] - sum([A[i][j] * Xprev[j] for j in range(n) if j != i])) for i in range(n)]\n",
    "        Xprev = Xnext\n",
    "        # print(Xnext)\n",
    "        iteration += 1\n",
    "    jacobi_it_diff.append(math.sqrt(sum([math.pow(Xnext[i] - solution[i], 2) for i in range(n)])))"
   ]
  },
  {
   "cell_type": "code",
   "execution_count": 7,
   "metadata": {},
   "outputs": [
    {
     "data": {
      "text/plain": [
       "[11.44521440823747,\n",
       " 17.330941080161033,\n",
       " 4.706724662023288,\n",
       " 6.2028132359043315,\n",
       " 8.669835536806207,\n",
       " 5.068501474553728,\n",
       " 3.5768710270554913,\n",
       " 2.9128198044925586,\n",
       " 1.9949757476910206,\n",
       " 1.1090735394412978,\n",
       " 0.6168985320613354,\n",
       " 0.34313025036528483,\n",
       " 0.19085541368192163,\n",
       " 0.08730352503869554]"
      ]
     },
     "execution_count": 7,
     "metadata": {},
     "output_type": "execute_result"
    }
   ],
   "source": [
    "jacobi_it_diff"
   ]
  },
  {
   "cell_type": "code",
   "execution_count": 8,
   "metadata": {},
   "outputs": [],
   "source": [
    "zeidel_gauss_diff = []\n",
    "iteration = 0\n",
    "Xprev = [0, 0, 0]\n",
    "Xnext = [0, 0, 0]\n",
    "for cnt in iterations_count:\n",
    "    while iteration != cnt:\n",
    "        for i in range(n):\n",
    "            Xnext[i] = (1 / A[i][i]) * (b[i] - sum([A[i][j] * Xnext[j] for j in range(i)]) - sum([A[i][k] * Xprev[k] for k in range(i + 1, n)]))\n",
    "        Xprev = Xnext\n",
    "        # print(Xnext)\n",
    "        iteration += 1\n",
    "    zeidel_gauss_diff.append(math.sqrt(sum([math.pow(Xnext[i] - solution[i], 2) for i in range(n)])))"
   ]
  },
  {
   "cell_type": "code",
   "execution_count": 9,
   "metadata": {},
   "outputs": [
    {
     "data": {
      "text/plain": [
       "[12.951965013956004,\n",
       " 19.719604059430402,\n",
       " 46.05739196073726,\n",
       " 94.39713040650126,\n",
       " 201.09241768489287,\n",
       " 8423.13633496997,\n",
       " 353537.153524057,\n",
       " 14838645.618229786,\n",
       " 26140426938.878952,\n",
       " 1932815040889622.2,\n",
       " 1.4291174321766334e+20,\n",
       " 1.056684986273224e+25,\n",
       " 7.813095936522308e+29,\n",
       " 2.4247110066165495e+36]"
      ]
     },
     "execution_count": 9,
     "metadata": {},
     "output_type": "execute_result"
    }
   ],
   "source": [
    "zeidel_gauss_diff"
   ]
  },
  {
   "cell_type": "code",
   "execution_count": 15,
   "metadata": {},
   "outputs": [
    {
     "data": {
      "text/plain": [
       "Text(0.5, 1.0, 'Сходимость итерационных методов')"
      ]
     },
     "execution_count": 15,
     "metadata": {},
     "output_type": "execute_result"
    },
    {
     "data": {
      "image/png": "[encoded data removed]",
      "text/plain": [
       "<Figure size 432x288 with 1 Axes>"
      ]
     },
     "metadata": {
      "needs_background": "light"
     },
     "output_type": "display_data"
    }
   ],
   "source": [
    "# Построим диаграммы сходимости\n",
    "from matplotlib import pyplot as plt\n",
    "_, ax = plt.subplots()\n",
    "ax.semilogy(iterations_count, jacobi_it_diff, lw = 2, color = 'green', alpha = 1, label='Метод Якоби')\n",
    "\n",
    "ax.semilogy(iterations_count, zeidel_gauss_diff, lw = 2, color = 'red', alpha = 1, label='Метод Зейделя-Гаусса')\n",
    "ax.legend(title='Размеры матриц')\n",
    "ax.set_ylabel('Погрешность с точным решением')\n",
    "ax.set_xlabel('Номер итерации')\n",
    "ax.set_title('Сходимость итерационных методов')\n"
   ]
  },
  {
   "cell_type": "code",
   "execution_count": 17,
   "metadata": {},
   "outputs": [],
   "source": [
    "# Задание 5. Итерационные методы для разреженных СЛАУ особого вида\n",
    "# 1. Написать программу, которая при данном n решает СЛАУ A_n*x = b_n\n",
    "# Метод №1 - Якоби\n",
    "# Матрица вида\n",
    "# M =   d 0 e\n",
    "#       0 d 0 e\n",
    "#       c 0 d 0 e\n",
    "#       0 c 0 d 0 e\n",
    "#       ...................\n",
    "# Где с = -1, d = 4, e = 2\n",
    "# Матрица трехдиагональная, а еще элементы каждой диагонали одинаковые\n",
    "# Собственно, это значит, что хранить матрицу я не буду вообще\n",
    "# Модифицирую метод Якоби \n",
    "# Представлю решение задачи в виде создания класса обертки\n",
    "import math\n",
    "\n",
    "class jacoby_special_matrix:\n",
    "    \"\"\"Класс обертка для получения решения СЛАУ трехдиагональной матрицы особого вида.\n",
    "     M = d 0 e\n",
    "         0 d 0 e\n",
    "         c 0 d 0 e\n",
    "         0 c 0 d 0 e\n",
    "    \"\"\"\n",
    "    c, d, e = -1, 6, 3\n",
    "\n",
    "    def __init__(self, n: int, b: list, ksi=1 / 100):\n",
    "        \"\"\"n - размер матрицы, b - правая часть СЛАУ, ksi - макс. допустимая невязка \"\"\"\n",
    "        if len(b) != n or n < 5:\n",
    "            raise ArithmeticError(\"Неверные размеры\")\n",
    "        self.n = n\n",
    "        self.b = b\n",
    "        self._iteration_solutions = []\n",
    "        self.x = [0] * n\n",
    "        self._iteration = 0\n",
    "        self.ksi = ksi\n",
    "\n",
    "    def do_iteration(self):\n",
    "        \"\"\"Совершает одну итерацию метода Якоби\"\"\"\n",
    "        x_prev = self.x\n",
    "        x_next = [0] * self.n\n",
    "        x_next[0] = (1 / self.d) * (self.b[0] - x_prev[2] * self.e)\n",
    "        x_next[1] = (1 / self.d) * (self.b[1] - x_prev[3] * self.e)\n",
    "        x_next[-1] = (1 / self.d) * (self.b[-1] - x_prev[-3] * self.c)\n",
    "        x_next[-2] = (1 / self.d) * (self.b[-2] - x_prev[-4] * self.c)\n",
    "        x_next[2:-2] = [(1 / self.d) * (self.b[i] - x_prev[i + 2] * self.e - x_prev[i - 2] * self.c) for i in\n",
    "                        range(2, self.n - 2)]\n",
    "        self.x = x_next\n",
    "        self._iteration += 1\n",
    "\n",
    "    def get_accuracy(self) -> float:\n",
    "        \"\"\"Возвращает норму текущей невязки ||Ax - b||\n",
    "        Обозначу как accuracy вектор, который содержит компоненты вектора\n",
    "         Ax - b, возведенные в квадрат\n",
    "        \"\"\"\n",
    "        accuracy = []\n",
    "        accuracy.append(math.pow(self.d * self.x[0] + self.e * self.x[2] - self.b[0], 2))  # Первая компонента\n",
    "        accuracy.append(math.pow(self.d * self.x[1] + self.e * self.x[3] - self.b[1], 2))  # Вторая строка\n",
    "        accuracy.append(math.pow(self.d * self.x[-2] + self.c * self.x[-4] - self.b[-2], 2))  # Предпоследняя строка\n",
    "        accuracy.append(math.pow(self.d * self.x[-1] + self.c * self.x[-3] - self.b[-1], 2))  # Последняя строка\n",
    "        for i in range(2, self.n - 2):\n",
    "            # Все средние строки вектора\n",
    "            accuracy.append(math.pow(self.c * self.x[i-2] + self.d * self.x[i] + self.e * self.x[i+2] - self.b[i], 2))\n",
    "        return math.sqrt(sum(accuracy))\n",
    "\n",
    "    def solve(self):\n",
    "        while self.get_accuracy() > self.ksi:\n",
    "            self.do_iteration()\n",
    "            assert self._iteration < 300\n",
    "        return self.x\n",
    "\n",
    "    def get_iteration(self):\n",
    "        return self._iteration\n",
    "\n"
   ]
  },
  {
   "cell_type": "code",
   "execution_count": 18,
   "metadata": {},
   "outputs": [
    {
     "name": "stdout",
     "output_type": "stream",
     "text": [
      "Полученное решение: [1.0004842624742798, 1.0004842624742798, 1.00032284164952, 1.00032284164952, 0.9996744791666667, 0.9996744791666667, 0.9998905999942844, 0.9998905999942844, 1.0000547000028577, 1.0000547000028577]\n",
      "Точное решение:  [1, 1, 1, 1, 1, 1, 1, 1, 1, 1]\n",
      "Достигнуто на итерации № 11\n"
     ]
    }
   ],
   "source": [
    "# 2. Подвердить правильность работы программы на примере нескольких СЛАУ размерности 5-10\n",
    "# Решим задачу с заданным решением x = (1, 1, 1, 1, 1, 1, 1, 1, 1, 1)^T\n",
    "\n",
    "solution = [1, 1, 1, 1, 1, 1, 1, 1, 1, 1]\n",
    "n = 10\n",
    "b = [9, 9, 8, 8, 8, 8, 8, 8, 5, 5]\n",
    "ksi = 1/100\n",
    "jacoby = jacoby_special_matrix(n, b)\n",
    "x = jacoby.solve()\n",
    "k = jacoby.get_iteration()\n",
    "\n",
    "print('Полученное решение:', x)\n",
    "print('Точное решение: ', solution)\n",
    "print('Достигнуто на итерации №', k)"
   ]
  },
  {
   "cell_type": "code",
   "execution_count": 19,
   "metadata": {},
   "outputs": [
    {
     "name": "stdout",
     "output_type": "stream",
     "text": [
      "Полученное решение: [0.9930555555555554, 1.9988425925925926, 2.989197530864198, 4.000192901234568, 5.002314814814815]\n",
      "Точное решение:  [1, 2, 3, 4, 5]\n",
      "Достигнуто на итерации № 7\n"
     ]
    }
   ],
   "source": [
    "# Решим задачу с заданным решением x = (1, 2, 3, 4, 5)^T\n",
    "\n",
    "solution = [1, 2, 3, 4, 5]\n",
    "n = 5\n",
    "b = [15, 24, 32, 22, 27]\n",
    "ksi = 1/10\n",
    "jacoby = jacoby_special_matrix(n, b, ksi)\n",
    "x = jacoby.solve()\n",
    "k = jacoby.get_iteration()\n",
    "\n",
    "print('Полученное решение:', x)\n",
    "print('Точное решение: ', solution)\n",
    "print('Достигнуто на итерации №', k)"
   ]
  },
  {
   "cell_type": "code",
   "execution_count": 20,
   "metadata": {},
   "outputs": [],
   "source": [
    "# 3. Построить диаграмму сходимости (общую), для n = 100, 1000, 10000\n",
    "# Для СЛАУ данных размерностей сгенерирую векторы b случайным образом\n",
    "# И создам для них три экземпляра решения методом Якоби\n",
    "\n",
    "from numpy import random\n",
    "b1 = [random.randint(1, 100) for _ in range(100)]\n",
    "jacoby1 = jacoby_special_matrix(100, b1)\n",
    "\n",
    "b2 = [random.randint(1, 100) for _ in range(1000)]\n",
    "jacoby2 = jacoby_special_matrix(1000, b2)\n",
    "\n",
    "b3 = [random.randint(1, 100) for _ in range(10000)]\n",
    "jacoby3 = jacoby_special_matrix(10000, b3)"
   ]
  },
  {
   "cell_type": "code",
   "execution_count": 21,
   "metadata": {},
   "outputs": [],
   "source": [
    "# Получим данные для диаграммы сходимости\n",
    "iterations_count = [5, 7, 9, 11, 13, 15]\n",
    "j1_diff = []\n",
    "for cnt in iterations_count:\n",
    "    while jacoby1.get_iteration() < cnt:\n",
    "        jacoby1.do_iteration()\n",
    "    j1_diff.append(jacoby1.get_accuracy())\n",
    "    "
   ]
  },
  {
   "cell_type": "code",
   "execution_count": 22,
   "metadata": {},
   "outputs": [
    {
     "data": {
      "text/plain": [
       "[18.471334771515057,\n",
       " 7.4196895403804835,\n",
       " 3.0545024291716674,\n",
       " 1.2733414036789286,\n",
       " 0.5350623935551059,\n",
       " 0.22617901816571684]"
      ]
     },
     "execution_count": 22,
     "metadata": {},
     "output_type": "execute_result"
    }
   ],
   "source": [
    "j1_diff"
   ]
  },
  {
   "cell_type": "code",
   "execution_count": 23,
   "metadata": {},
   "outputs": [
    {
     "data": {
      "text/plain": [
       "[66.72448178438997,\n",
       " 27.381664379263096,\n",
       " 11.504978881098504,\n",
       " 4.888774372349376,\n",
       " 2.092126342279925,\n",
       " 0.8996481754492611]"
      ]
     },
     "execution_count": 23,
     "metadata": {},
     "output_type": "execute_result"
    }
   ],
   "source": [
    "j2_diff = []\n",
    "for cnt in iterations_count:\n",
    "    while jacoby2.get_iteration() < cnt:\n",
    "        jacoby2.do_iteration()\n",
    "    j2_diff.append(jacoby2.get_accuracy())\n",
    "j2_diff"
   ]
  },
  {
   "cell_type": "code",
   "execution_count": 24,
   "metadata": {},
   "outputs": [
    {
     "data": {
      "text/plain": [
       "[202.4750332514069,\n",
       " 82.20874538009666,\n",
       " 34.282704363549676,\n",
       " 14.489881801462143,\n",
       " 6.177775190407142,\n",
       " 2.650275135426214]"
      ]
     },
     "execution_count": 24,
     "metadata": {},
     "output_type": "execute_result"
    }
   ],
   "source": [
    "j3_diff = []\n",
    "for cnt in iterations_count:\n",
    "    while jacoby3.get_iteration() < cnt:\n",
    "        jacoby3.do_iteration()\n",
    "    j3_diff.append(jacoby3.get_accuracy())\n",
    "j3_diff"
   ]
  },
  {
   "cell_type": "code",
   "execution_count": 25,
   "metadata": {},
   "outputs": [
    {
     "data": {
      "image/png": "[encoded data removed]",
      "text/plain": [
       "<Figure size 1008x432 with 1 Axes>"
      ]
     },
     "metadata": {
      "needs_background": "light"
     },
     "output_type": "display_data"
    }
   ],
   "source": [
    "import numpy as np\n",
    "import matplotlib.pyplot as plt\n",
    " \n",
    "fig, ax = plt.subplots(figsize=(14, 6))\n",
    "\n",
    "ax.semilogy(iterations_count, j1_diff, lw = 2, color = 'green', alpha = 1, label = '100')\n",
    "ax.semilogy(iterations_count, j2_diff, lw = 2, color = 'red', alpha = 1, label = '1000')\n",
    "ax.semilogy(iterations_count, j3_diff, lw = 2, color = 'blue', alpha = 1, label = '10000')\n",
    "ax.legend(title='Размеры матриц')\n",
    "ax.set_ylabel('Погрешность с точным решением')\n",
    "ax.set_xlabel('Номер итерации')\n",
    "ax.set_title('Метод Якоби для матриц особого вида')\n",
    "plt.show()"
   ]
  },
  {
   "cell_type": "code",
   "execution_count": 27,
   "metadata": {},
   "outputs": [],
   "source": [
    "# 4. Построить диаграмму, в которой по оси абсцисс изменяется n = [10^k/2], где k = 1..12, а на оси ординает время,\n",
    "# необходимое, чтобы норма невязки не превышала 10^-8. (Здесь немного не понял с размерами... Взял от 10 до 1000000)\n",
    "import datetime\n",
    "sizes = [10, 100, 1000, 10000, 100000, 200000, 1000000]\n",
    "work_times = []\n",
    "for size in sizes:\n",
    "    b = [random.randint(1, 100) for _ in range(size)]\n",
    "    jacoby = jacoby_special_matrix(size, b, ksi=0.00000001)\n",
    "    start = datetime.datetime.now()\n",
    "    jacoby.solve()\n",
    "    end = datetime.datetime.now()\n",
    "    work_times.append(str(end-start))\n"
   ]
  },
  {
   "cell_type": "code",
   "execution_count": 28,
   "metadata": {},
   "outputs": [
    {
     "data": {
      "text/plain": [
       "['0:00:00.001323',\n",
       " '0:00:00.007769',\n",
       " '0:00:00.122360',\n",
       " '0:00:01.084503',\n",
       " '0:00:11.049433',\n",
       " '0:00:21.611330',\n",
       " '0:01:49.921222']"
      ]
     },
     "execution_count": 28,
     "metadata": {},
     "output_type": "execute_result"
    }
   ],
   "source": [
    "work_times"
   ]
  },
  {
   "cell_type": "code",
   "execution_count": 29,
   "metadata": {},
   "outputs": [
    {
     "name": "stderr",
     "output_type": "stream",
     "text": [
      "c:\\users\\makhn\\appdata\\local\\programs\\python\\python37-32\\lib\\site-packages\\ipykernel_launcher.py:3: UserWarning: Attempted to set non-positive bottom ylim on a log-scaled axis.\n",
      "Invalid limit will be ignored.\n",
      "  This is separate from the ipykernel package so we can avoid doing imports until\n"
     ]
    },
    {
     "data": {
      "image/png": "[encoded data removed]",
      "text/plain": [
       "<Figure size 1152x1440 with 1 Axes>"
      ]
     },
     "metadata": {
      "needs_background": "light"
     },
     "output_type": "display_data"
    }
   ],
   "source": [
    "fig, ax = plt.subplots(figsize=(16, 20))\n",
    "\n",
    "ax.semilogy(sizes, work_times, lw = 2, color = 'red', alpha = 1)\n",
    "ax.set_ylabel('Время решения')\n",
    "ax.set_xlabel('Размер матрицы')\n",
    "ax.set_title('Время работы метода Якоби для матриц особого вида с ksi = 0.00000001')\n",
    "plt.show()"
   ]
  },
  {
   "cell_type": "code",
   "execution_count": null,
   "metadata": {},
   "outputs": [],
   "source": []
  }
 ],
 "metadata": {
  "kernelspec": {
   "display_name": "Python 3",
   "language": "python",
   "name": "python3"
  },
  "language_info": {
   "codemirror_mode": {
    "name": "ipython",
    "version": 3
   },
   "file_extension": ".py",
   "mimetype": "text/x-python",
   "name": "python",
   "nbconvert_exporter": "python",
   "pygments_lexer": "ipython3",
   "version": "3.7.3"
  }
 },
 "nbformat": 4,
 "nbformat_minor": 4
}
